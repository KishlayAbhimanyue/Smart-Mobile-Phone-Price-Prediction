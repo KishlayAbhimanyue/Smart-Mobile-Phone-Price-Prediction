{
 "cells": [
  {
   "cell_type": "code",
   "execution_count": 5,
   "id": "7f043659",
   "metadata": {},
   "outputs": [
    {
     "ename": "SyntaxError",
     "evalue": "invalid syntax (3172945018.py, line 9)",
     "output_type": "error",
     "traceback": [
      "\u001b[1;36m  Cell \u001b[1;32mIn[5], line 9\u001b[1;36m\u001b[0m\n\u001b[1;33m    pip install pandas\u001b[0m\n\u001b[1;37m        ^\u001b[0m\n\u001b[1;31mSyntaxError\u001b[0m\u001b[1;31m:\u001b[0m invalid syntax\n"
     ]
    }
   ],
   "source": [
    "#pip install pandas\n",
    "#pip3 install pandas\n",
    "import pandas as pd\n",
    "#import numpy as np\n",
    "#from sklearn.linear_model import LogisticRegression\n",
    "import matplotlib.pyplot as plt\n",
    "from sklearn.model_selection import train_test_split\n",
    "from sklearn import preprocessing\n",
    "from sklearn.model_selection import cross_val_score\n",
    "import csv\n",
    "\n",
    "\n",
    "data = pd.read_csv('train.csv')\n",
    "#Splitting into X and y as per the required for Scikit learn packages\n",
    "X, y = data.iloc[:,:-1], data.iloc[:,-1]\n",
    "\n",
    "#Splitting the dataset into training and testing\n",
    "X_train, X_test, Y_train, Y_test= train_test_split(X, y, test_size=0.2, random_state=123)\n",
    "# min_max_scaler = preprocessing.MinMaxScaler()\n",
    "# X_train_minmax = min_max_scaler.fit_transform(X_train)\n",
    "# Y_train_minmax = min_max_scaler.fit_transform(y_train)\n",
    "# X_test_minmax = min_max_scaler.transform(X_test)\n",
    "# Y_test_minmax = min_max_scaler.transform(y_test)\n",
    "\n",
    "clf = LogisticRegression(C=1e5, solver='newton-cg', multi_class='multinomial')\n",
    "#clf = LogisticRegression(multi_class='multinomial',class_weight='balanced', solver='saga')\n",
    "#clf = GradientBoostingClassifier(n_estimators=100, learning_rate=1.0,max_depth=1, random_state=0).fit(X_train, y_train)\n",
    "\n",
    "clf.fit(X_train,Y_train)\n",
    "\n",
    "preds = clf.predict(X_test)\n",
    "\n",
    "accuracy = float(np.sum(preds==Y_test))/Y_test.shape[0]\n",
    "print(\"accuracy: %f\" % (accuracy))\n",
    "\n",
    "testdata =pd.read_csv('test.csv')\n",
    "\n",
    "test_prediction=clf.predict(testdata)\n",
    "\n",
    "file = open(\"Prediction.csv\",\"w\",newline=\"\")\n",
    "new_file = csv.writer(file)\n",
    "#new_file.writerow(['id','price_range'])\n",
    "for i in range(0,1000):\n",
    "    new_file.writerow(list([i+1,test_prediction[i]]))\n",
    "\n",
    "import pandas as pd\n",
    "import numpy as np\n",
    "import xgboost as xgb\n",
    "import matplotlib.pyplot as plt\n",
    "from sklearn.model_selection import train_test_split\n",
    "import csv\n",
    "\n",
    "data = pd.read_csv('train.csv')\n",
    "#Splitting into X and y as per the required for Scikit learn packages\n",
    "X, y = data.iloc[:,:-1], data.iloc[:,-1]\n",
    "\n",
    "#Splitting the dataset into training and testing\n",
    "X_train, X_test, y_train, y_test= train_test_split(X, y, test_size=0.2, random_state=123)\n",
    "\n",
    "xg_cl = xgb.XGBClassifier(objective='multi:softmax', n_estimators=200,seed=123,learning_rate=0.15,max_depth=5,colsample_bytree=1,subsample=1)\n",
    "\n",
    "xg_cl.fit(X_train,y_train)\n",
    "\n",
    "preds = xg_cl.predict(X_test)\n",
    "\n",
    "accuracy = float(np.sum(preds==y_test))/y_test.shape[0]\n",
    "print(\"accuracy: %f\" % (accuracy))\n",
    "\n",
    "testdata =pd.read_csv('test.csv')\n",
    "\n",
    "test_prediction=xg_cl.predict(testdata)\n",
    "\n",
    "file = open(\"Result.csv\",\"w\",newline=\"\")\n",
    "new_file = csv.writer(file)\n",
    "#new_file.writerow(['id','price_range'])\n",
    "for i in range(0,1000):\n",
    "    new_file.writerow(list([i+1,test_prediction[i]]))\n",
    "\n"
   ]
  },
  {
   "cell_type": "code",
   "execution_count": null,
   "id": "50ce4c67",
   "metadata": {},
   "outputs": [],
   "source": []
  },
  {
   "cell_type": "code",
   "execution_count": null,
   "id": "4033e242",
   "metadata": {},
   "outputs": [],
   "source": []
  }
 ],
 "metadata": {
  "kernelspec": {
   "display_name": "Python 3 (ipykernel)",
   "language": "python",
   "name": "python3"
  },
  "language_info": {
   "codemirror_mode": {
    "name": "ipython",
    "version": 3
   },
   "file_extension": ".py",
   "mimetype": "text/x-python",
   "name": "python",
   "nbconvert_exporter": "python",
   "pygments_lexer": "ipython3",
   "version": "3.10.8"
  }
 },
 "nbformat": 4,
 "nbformat_minor": 5
}
